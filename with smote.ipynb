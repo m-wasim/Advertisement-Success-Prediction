{
 "cells": [
  {
   "cell_type": "code",
   "execution_count": 2,
   "metadata": {},
   "outputs": [],
   "source": [
    "import pandas as pd\n",
    "import numpy as np"
   ]
  },
  {
   "cell_type": "code",
   "execution_count": 5,
   "metadata": {},
   "outputs": [],
   "source": [
    "train_data=pd.read_csv('train.csv')\n",
    "test_data=pd.read_csv('test.csv')"
   ]
  },
  {
   "cell_type": "code",
   "execution_count": 4,
   "metadata": {},
   "outputs": [
    {
     "data": {
      "text/html": [
       "<div>\n",
       "<style scoped>\n",
       "    .dataframe tbody tr th:only-of-type {\n",
       "        vertical-align: middle;\n",
       "    }\n",
       "\n",
       "    .dataframe tbody tr th {\n",
       "        vertical-align: top;\n",
       "    }\n",
       "\n",
       "    .dataframe thead th {\n",
       "        text-align: right;\n",
       "    }\n",
       "</style>\n",
       "<table border=\"1\" class=\"dataframe\">\n",
       "  <thead>\n",
       "    <tr style=\"text-align: right;\">\n",
       "      <th></th>\n",
       "      <th>UserID</th>\n",
       "      <th>realtionship_status</th>\n",
       "      <th>industry</th>\n",
       "      <th>genre</th>\n",
       "      <th>targeted_sex</th>\n",
       "      <th>average_runtime(minutes_per_week)</th>\n",
       "      <th>airtime</th>\n",
       "      <th>airlocation</th>\n",
       "      <th>ratings</th>\n",
       "      <th>expensive</th>\n",
       "      <th>money_back_guarantee</th>\n",
       "      <th>netgain</th>\n",
       "    </tr>\n",
       "  </thead>\n",
       "  <tbody>\n",
       "    <tr>\n",
       "      <th>0</th>\n",
       "      <td>UI_9185</td>\n",
       "      <td>Married-civ-spouse</td>\n",
       "      <td>Pharma</td>\n",
       "      <td>Comedy</td>\n",
       "      <td>Male</td>\n",
       "      <td>40</td>\n",
       "      <td>Daytime</td>\n",
       "      <td>United-States</td>\n",
       "      <td>0.027465</td>\n",
       "      <td>Medium</td>\n",
       "      <td>No</td>\n",
       "      <td>0</td>\n",
       "    </tr>\n",
       "    <tr>\n",
       "      <th>1</th>\n",
       "      <td>UI_449</td>\n",
       "      <td>Never-married</td>\n",
       "      <td>Political</td>\n",
       "      <td>Comedy</td>\n",
       "      <td>Male</td>\n",
       "      <td>35</td>\n",
       "      <td>Morning</td>\n",
       "      <td>International</td>\n",
       "      <td>0.027465</td>\n",
       "      <td>Low</td>\n",
       "      <td>No</td>\n",
       "      <td>0</td>\n",
       "    </tr>\n",
       "    <tr>\n",
       "      <th>2</th>\n",
       "      <td>UI_9014</td>\n",
       "      <td>Never-married</td>\n",
       "      <td>Auto</td>\n",
       "      <td>Comedy</td>\n",
       "      <td>Male</td>\n",
       "      <td>40</td>\n",
       "      <td>Morning</td>\n",
       "      <td>United-States</td>\n",
       "      <td>0.027465</td>\n",
       "      <td>Low</td>\n",
       "      <td>No</td>\n",
       "      <td>0</td>\n",
       "    </tr>\n",
       "    <tr>\n",
       "      <th>3</th>\n",
       "      <td>UI_14987</td>\n",
       "      <td>Married-civ-spouse</td>\n",
       "      <td>Pharma</td>\n",
       "      <td>Infomercial</td>\n",
       "      <td>Male</td>\n",
       "      <td>40</td>\n",
       "      <td>Primetime</td>\n",
       "      <td>United-States</td>\n",
       "      <td>0.027465</td>\n",
       "      <td>Low</td>\n",
       "      <td>Yes</td>\n",
       "      <td>0</td>\n",
       "    </tr>\n",
       "    <tr>\n",
       "      <th>4</th>\n",
       "      <td>UI_25532</td>\n",
       "      <td>Married-civ-spouse</td>\n",
       "      <td>Other</td>\n",
       "      <td>Comedy</td>\n",
       "      <td>Female</td>\n",
       "      <td>50</td>\n",
       "      <td>Primetime</td>\n",
       "      <td>United-States</td>\n",
       "      <td>0.027465</td>\n",
       "      <td>Low</td>\n",
       "      <td>Yes</td>\n",
       "      <td>1</td>\n",
       "    </tr>\n",
       "  </tbody>\n",
       "</table>\n",
       "</div>"
      ],
      "text/plain": [
       "     UserID realtionship_status   industry        genre targeted_sex  \\\n",
       "0   UI_9185  Married-civ-spouse     Pharma       Comedy         Male   \n",
       "1    UI_449       Never-married  Political       Comedy         Male   \n",
       "2   UI_9014       Never-married       Auto       Comedy         Male   \n",
       "3  UI_14987  Married-civ-spouse     Pharma  Infomercial         Male   \n",
       "4  UI_25532  Married-civ-spouse      Other       Comedy       Female   \n",
       "\n",
       "   average_runtime(minutes_per_week)    airtime    airlocation   ratings  \\\n",
       "0                                 40    Daytime  United-States  0.027465   \n",
       "1                                 35    Morning  International  0.027465   \n",
       "2                                 40    Morning  United-States  0.027465   \n",
       "3                                 40  Primetime  United-States  0.027465   \n",
       "4                                 50  Primetime  United-States  0.027465   \n",
       "\n",
       "  expensive money_back_guarantee  netgain  \n",
       "0    Medium                   No        0  \n",
       "1       Low                   No        0  \n",
       "2       Low                   No        0  \n",
       "3       Low                  Yes        0  \n",
       "4       Low                  Yes        1  "
      ]
     },
     "execution_count": 4,
     "metadata": {},
     "output_type": "execute_result"
    }
   ],
   "source": [
    "train_data.head()"
   ]
  },
  {
   "cell_type": "code",
   "execution_count": 6,
   "metadata": {},
   "outputs": [
    {
     "name": "stdout",
     "output_type": "stream",
     "text": [
      "(19536, 12)\n",
      "(6512, 11)\n"
     ]
    }
   ],
   "source": [
    "print(train_data.shape)\n",
    "print(test_data.shape)\n"
   ]
  },
  {
   "cell_type": "code",
   "execution_count": 7,
   "metadata": {},
   "outputs": [
    {
     "data": {
      "text/plain": [
       "UserID                               0\n",
       "realtionship_status                  0\n",
       "industry                             0\n",
       "genre                                0\n",
       "targeted_sex                         0\n",
       "average_runtime(minutes_per_week)    0\n",
       "airtime                              0\n",
       "airlocation                          0\n",
       "ratings                              0\n",
       "expensive                            0\n",
       "money_back_guarantee                 0\n",
       "netgain                              0\n",
       "dtype: int64"
      ]
     },
     "execution_count": 7,
     "metadata": {},
     "output_type": "execute_result"
    }
   ],
   "source": [
    "train_data.isnull().sum()#no null values"
   ]
  },
  {
   "cell_type": "code",
   "execution_count": 8,
   "metadata": {},
   "outputs": [
    {
     "data": {
      "text/plain": [
       "UserID                                object\n",
       "realtionship_status                   object\n",
       "industry                              object\n",
       "genre                                 object\n",
       "targeted_sex                          object\n",
       "average_runtime(minutes_per_week)      int64\n",
       "airtime                               object\n",
       "airlocation                           object\n",
       "ratings                              float64\n",
       "expensive                             object\n",
       "money_back_guarantee                  object\n",
       "netgain                                int64\n",
       "dtype: object"
      ]
     },
     "execution_count": 8,
     "metadata": {},
     "output_type": "execute_result"
    }
   ],
   "source": [
    "train_data.dtypes"
   ]
  },
  {
   "cell_type": "code",
   "execution_count": 9,
   "metadata": {},
   "outputs": [],
   "source": [
    "df=train_data.drop(columns='UserID')\n",
    "df_test=test_data.drop(columns='UserID')"
   ]
  },
  {
   "cell_type": "code",
   "execution_count": 10,
   "metadata": {},
   "outputs": [],
   "source": [
    "cat_cols=[col for col in df.columns if df[col].dtype=='O']\n"
   ]
  },
  {
   "cell_type": "code",
   "execution_count": 11,
   "metadata": {},
   "outputs": [
    {
     "data": {
      "text/plain": [
       "['realtionship_status',\n",
       " 'industry',\n",
       " 'genre',\n",
       " 'targeted_sex',\n",
       " 'airtime',\n",
       " 'airlocation',\n",
       " 'expensive',\n",
       " 'money_back_guarantee']"
      ]
     },
     "execution_count": 11,
     "metadata": {},
     "output_type": "execute_result"
    }
   ],
   "source": [
    "cat_cols"
   ]
  },
  {
   "cell_type": "code",
   "execution_count": 12,
   "metadata": {},
   "outputs": [],
   "source": [
    "num_cols=[col for col in df.columns if col not in cat_cols]"
   ]
  },
  {
   "cell_type": "code",
   "execution_count": 13,
   "metadata": {},
   "outputs": [
    {
     "data": {
      "text/plain": [
       "['average_runtime(minutes_per_week)', 'ratings', 'netgain']"
      ]
     },
     "execution_count": 13,
     "metadata": {},
     "output_type": "execute_result"
    }
   ],
   "source": [
    "num_cols"
   ]
  },
  {
   "cell_type": "code",
   "execution_count": 14,
   "metadata": {},
   "outputs": [],
   "source": [
    "num_cols_test=['average_runtime(minutes_per_week)','ratings']"
   ]
  },
  {
   "cell_type": "code",
   "execution_count": 15,
   "metadata": {},
   "outputs": [
    {
     "data": {
      "text/plain": [
       "0    14886\n",
       "1     4650\n",
       "Name: netgain, dtype: int64"
      ]
     },
     "execution_count": 15,
     "metadata": {},
     "output_type": "execute_result"
    }
   ],
   "source": [
    "df.netgain.value_counts()"
   ]
  },
  {
   "cell_type": "code",
   "execution_count": 16,
   "metadata": {},
   "outputs": [
    {
     "data": {
      "text/plain": [
       "0    76.197789\n",
       "1    23.802211\n",
       "Name: netgain, dtype: float64"
      ]
     },
     "execution_count": 16,
     "metadata": {},
     "output_type": "execute_result"
    }
   ],
   "source": [
    "df.netgain.value_counts()*100/df.shape[0]#Might be imbalanced datasset"
   ]
  },
  {
   "cell_type": "code",
   "execution_count": 17,
   "metadata": {},
   "outputs": [],
   "source": [
    "def no_categories(df,col_list):\n",
    "    for col in col_list:\n",
    "        print(\"{} have {} categories\\n\".format(col,df[col].nunique()))\n",
    "    \n",
    "    "
   ]
  },
  {
   "cell_type": "code",
   "execution_count": 18,
   "metadata": {},
   "outputs": [
    {
     "name": "stdout",
     "output_type": "stream",
     "text": [
      "realtionship_status have 7 categories\n",
      "\n",
      "industry have 6 categories\n",
      "\n",
      "genre have 5 categories\n",
      "\n",
      "targeted_sex have 2 categories\n",
      "\n",
      "airtime have 3 categories\n",
      "\n",
      "airlocation have 42 categories\n",
      "\n",
      "expensive have 3 categories\n",
      "\n",
      "money_back_guarantee have 2 categories\n",
      "\n"
     ]
    }
   ],
   "source": [
    "no_categories(df,cat_cols)"
   ]
  },
  {
   "cell_type": "code",
   "execution_count": 19,
   "metadata": {},
   "outputs": [
    {
     "name": "stdout",
     "output_type": "stream",
     "text": [
      "realtionship_status have 7 categories\n",
      "\n",
      "industry have 6 categories\n",
      "\n",
      "genre have 5 categories\n",
      "\n",
      "targeted_sex have 2 categories\n",
      "\n",
      "airtime have 3 categories\n",
      "\n",
      "airlocation have 41 categories\n",
      "\n",
      "expensive have 3 categories\n",
      "\n",
      "money_back_guarantee have 2 categories\n",
      "\n"
     ]
    }
   ],
   "source": [
    "no_categories(df_test,cat_cols)"
   ]
  },
  {
   "cell_type": "code",
   "execution_count": null,
   "metadata": {},
   "outputs": [],
   "source": [
    "df.corr()"
   ]
  },
  {
   "cell_type": "code",
   "execution_count": 20,
   "metadata": {},
   "outputs": [],
   "source": [
    "import seaborn as sns\n",
    "import matplotlib.pyplot as plt\n",
    "#from datetime import datetime as dt\n",
    "import time, warnings\n",
    "warnings.filterwarnings(\"ignore\")\n",
    "%matplotlib inline"
   ]
  },
  {
   "cell_type": "code",
   "execution_count": 21,
   "metadata": {},
   "outputs": [
    {
     "data": {
      "image/png": "[encoded data removed]",
      "text/plain": [
       "<Figure size 720x432 with 1 Axes>"
      ]
     },
     "metadata": {
      "needs_background": "light"
     },
     "output_type": "display_data"
    },
    {
     "data": {
      "image/png": "[encoded data removed]",
      "text/plain": [
       "<Figure size 720x432 with 1 Axes>"
      ]
     },
     "metadata": {
      "needs_background": "light"
     },
     "output_type": "display_data"
    },
    {
     "data": {
      "image/png": "[encoded data removed]",
      "text/plain": [
       "<Figure size 720x432 with 1 Axes>"
      ]
     },
     "metadata": {
      "needs_background": "light"
     },
     "output_type": "display_data"
    },
    {
     "data": {
      "image/png": "[encoded data removed]",
      "text/plain": [
       "<Figure size 720x432 with 1 Axes>"
      ]
     },
     "metadata": {
      "needs_background": "light"
     },
     "output_type": "display_data"
    },
    {
     "data": {
      "image/png": "[encoded data removed]",
      "text/plain": [
       "<Figure size 720x432 with 1 Axes>"
      ]
     },
     "metadata": {
      "needs_background": "light"
     },
     "output_type": "display_data"
    },
    {
     "data": {
      "image/png": "[encoded data removed]",
      "text/plain": [
       "<Figure size 720x432 with 1 Axes>"
      ]
     },
     "metadata": {
      "needs_background": "light"
     },
     "output_type": "display_data"
    },
    {
     "data": {
      "image/png": "[encoded data removed]",
      "text/plain": [
       "<Figure size 720x432 with 1 Axes>"
      ]
     },
     "metadata": {
      "needs_background": "light"
     },
     "output_type": "display_data"
    },
    {
     "data": {
      "image/png": "[encoded data removed]",
      "text/plain": [
       "<Figure size 720x432 with 1 Axes>"
      ]
     },
     "metadata": {
      "needs_background": "light"
     },
     "output_type": "display_data"
    }
   ],
   "source": [
    "for col in cat_cols:\n",
    "    counts = df[col].value_counts().sort_index()\n",
    "    fig = plt.figure(figsize=(10, 6))\n",
    "    ax = fig.gca()\n",
    "    counts.plot.bar(ax = ax, color='steelblue')\n",
    "    ax.set_title(col + ' counts')\n",
    "    ax.set_xlabel(col) \n",
    "    ax.set_ylabel(\"Frequency\")\n",
    "plt.show()"
   ]
  },
  {
   "cell_type": "code",
   "execution_count": 22,
   "metadata": {},
   "outputs": [],
   "source": [
    "# Create a function that we can re-use\n",
    "def show_distribution(var_data):\n",
    "    from matplotlib import pyplot as plt\n",
    "    # Get statistics\n",
    "    min_val = var_data.min()\n",
    "    max_val = var_data.max()\n",
    "    mean_val = var_data.mean()\n",
    "    med_val = var_data.median()\n",
    "    mod_val = var_data.mode()[0]\n",
    "\n",
    "    print('Minimum:{:.2f}\\nMean:{:.2f}\\nMedian:{:.2f}\\nMode:{:.2f}\\nMaximum:{:.2f}\\n'.format(min_val,\n",
    "                                                                                            mean_val,\n",
    "                                                                                            med_val,\n",
    "                                                                                            mod_val,\n",
    "                                                                                            max_val))\n",
    "\n",
    "    # Create a figure for 2 subplots (2 rows, 1 column)\n",
    "    fig, ax = plt.subplots(2, 1, figsize = (10,8))\n",
    "\n",
    "    # Plot the histogram   \n",
    "    ax[0].hist(var_data,alpha=0.5,bins=10)\n",
    "    ax[0].set_ylabel('Frequency')\n",
    "\n",
    "    # Add lines for the mean, median, and mode\n",
    "    ax[0].axvline(x=min_val, color = 'gray', linestyle='dashed', linewidth = 2)\n",
    "    ax[0].axvline(x=mean_val, color = 'cyan', linestyle='dashed', linewidth = 2)\n",
    "    ax[0].axvline(x=med_val, color = 'red', linestyle='dashed', linewidth = 2)\n",
    "    ax[0].axvline(x=mod_val, color = 'yellow', linestyle='dashed', linewidth = 2)\n",
    "    ax[0].axvline(x=max_val, color = 'gray', linestyle='dashed', linewidth = 2)\n",
    "\n",
    "    # Plot the boxplot   \n",
    "    ax[1].boxplot(var_data, vert=False)\n",
    "    ax[1].set_xlabel('Value')\n",
    "\n",
    "    # Add a title to the Figure\n",
    "    fig.suptitle(f'Data Distribution')\n",
    "\n",
    "    # Show the figure\n",
    "    fig.show()"
   ]
  },
  {
   "cell_type": "code",
   "execution_count": 23,
   "metadata": {},
   "outputs": [
    {
     "name": "stdout",
     "output_type": "stream",
     "text": [
      "Distribtion for average_runtime(minutes_per_week)\n",
      "\n",
      "Skewness:  0.31438720202762793\n",
      "                                                                                                    \n",
      "Minimum:1.00\n",
      "Mean:40.38\n",
      "Median:40.00\n",
      "Mode:40.00\n",
      "Maximum:99.00\n",
      "\n"
     ]
    },
    {
     "data": {
      "image/png": "[encoded data removed]",
      "text/plain": [
       "<Figure size 720x576 with 2 Axes>"
      ]
     },
     "metadata": {
      "needs_background": "light"
     },
     "output_type": "display_data"
    }
   ],
   "source": [
    "col1 = df['average_runtime(minutes_per_week)']\n",
    "print(f'Distribtion for average_runtime(minutes_per_week)')\n",
    "print('\\nSkewness: ',df['average_runtime(minutes_per_week)'].skew())\n",
    "print(' '*100)\n",
    "show_distribution(col1)"
   ]
  },
  {
   "cell_type": "code",
   "execution_count": 24,
   "metadata": {},
   "outputs": [
    {
     "name": "stdout",
     "output_type": "stream",
     "text": [
      "Distribtion for ratings\n",
      "\n",
      "Skewness:  11.305354425798908\n",
      "                                                                                                    \n",
      "Minimum:0.00\n",
      "Mean:0.04\n",
      "Median:0.03\n",
      "Mode:0.03\n",
      "Maximum:1.00\n",
      "\n"
     ]
    },
    {
     "data": {
      "image/png": "[encoded data removed]",
      "text/plain": [
       "<Figure size 720x576 with 2 Axes>"
      ]
     },
     "metadata": {
      "needs_background": "light"
     },
     "output_type": "display_data"
    }
   ],
   "source": [
    "col1 = df['ratings']\n",
    "print(f'Distribtion for ratings')\n",
    "print('\\nSkewness: ',df.ratings.skew())\n",
    "print(' '*100)\n",
    "show_distribution(col1)"
   ]
  },
  {
   "cell_type": "code",
   "execution_count": null,
   "metadata": {},
   "outputs": [],
   "source": [
    "cat_cols"
   ]
  },
  {
   "cell_type": "code",
   "execution_count": 25,
   "metadata": {},
   "outputs": [],
   "source": [
    "ordinal_cat_cols=['expensive']"
   ]
  },
  {
   "cell_type": "code",
   "execution_count": 26,
   "metadata": {},
   "outputs": [],
   "source": [
    "nominal_cat_cols=[col for col in cat_cols if col not in ordinal_cat_cols]"
   ]
  },
  {
   "cell_type": "code",
   "execution_count": null,
   "metadata": {},
   "outputs": [],
   "source": []
  },
  {
   "cell_type": "code",
   "execution_count": 24,
   "metadata": {},
   "outputs": [
    {
     "data": {
      "text/plain": [
       "['realtionship_status',\n",
       " 'industry',\n",
       " 'genre',\n",
       " 'targeted_sex',\n",
       " 'airtime',\n",
       " 'airlocation',\n",
       " 'money_back_guarantee']"
      ]
     },
     "execution_count": 24,
     "metadata": {},
     "output_type": "execute_result"
    }
   ],
   "source": [
    "nominal_cat_cols"
   ]
  },
  {
   "cell_type": "code",
   "execution_count": 27,
   "metadata": {},
   "outputs": [],
   "source": [
    "relation=pd.get_dummies(df['realtionship_status'], prefix='relation', prefix_sep='_',drop_first=True)\n",
    "industry=pd.get_dummies(df['industry'], prefix='industry', prefix_sep='_',drop_first=True)\n",
    "genre=pd.get_dummies(df['genre'], prefix='genre', prefix_sep='_',drop_first=True)\n",
    "sex=pd.get_dummies(df['targeted_sex'], prefix='sex', prefix_sep='_',drop_first=True)\n",
    "airtime=pd.get_dummies(df['airtime'], prefix='time', prefix_sep='_',drop_first=True)\n",
    "airlocation=pd.get_dummies(df['airlocation'], prefix='loc', prefix_sep='_',drop_first=True)"
   ]
  },
  {
   "cell_type": "code",
   "execution_count": null,
   "metadata": {},
   "outputs": [],
   "source": []
  },
  {
   "cell_type": "code",
   "execution_count": 28,
   "metadata": {},
   "outputs": [],
   "source": [
    "guarante={'Yes':1,'No':0}\n",
    "df['money_back']=df.money_back_guarantee.map(guarante)"
   ]
  },
  {
   "cell_type": "code",
   "execution_count": 29,
   "metadata": {},
   "outputs": [],
   "source": [
    "relation_test=pd.get_dummies(df_test['realtionship_status'], prefix='relation', prefix_sep='_',drop_first=True)\n",
    "industry_test=pd.get_dummies(df_test['industry'], prefix='industry', prefix_sep='_',drop_first=True)\n",
    "genre_test=pd.get_dummies(df_test['genre'], prefix='genre', prefix_sep='_',drop_first=True)\n",
    "sex_test=pd.get_dummies(df_test['targeted_sex'], prefix='sex', prefix_sep='_',drop_first=True)\n",
    "airlocation_test=pd.get_dummies(df_test['airlocation'], prefix='loc', prefix_sep='_',drop_first=True)\n",
    "airtime_test=pd.get_dummies(df_test['airtime'], prefix='time', prefix_sep='_',drop_first=True)\n",
    "\n",
    "#guarante={'Yes':1,'No':0}\n",
    "df_test['money_back']=df_test.money_back_guarantee.map(guarante)"
   ]
  },
  {
   "cell_type": "code",
   "execution_count": 30,
   "metadata": {},
   "outputs": [],
   "source": [
    "from sklearn.preprocessing import OrdinalEncoder\n",
    "\n",
    "oe = OrdinalEncoder(categories=[['Low','Medium','High']])\n",
    "\n",
    "df['expensive_oe'] = oe.fit_transform(np.array(df['expensive']).reshape(-1,1))"
   ]
  },
  {
   "cell_type": "code",
   "execution_count": 31,
   "metadata": {},
   "outputs": [],
   "source": [
    "df_test['expensive_oe'] = oe.transform(np.array(df_test['expensive']).reshape(-1,1))"
   ]
  },
  {
   "cell_type": "code",
   "execution_count": null,
   "metadata": {},
   "outputs": [],
   "source": []
  },
  {
   "cell_type": "code",
   "execution_count": null,
   "metadata": {},
   "outputs": [],
   "source": []
  },
  {
   "cell_type": "code",
   "execution_count": 32,
   "metadata": {},
   "outputs": [
    {
     "data": {
      "text/html": [
       "<div>\n",
       "<style scoped>\n",
       "    .dataframe tbody tr th:only-of-type {\n",
       "        vertical-align: middle;\n",
       "    }\n",
       "\n",
       "    .dataframe tbody tr th {\n",
       "        vertical-align: top;\n",
       "    }\n",
       "\n",
       "    .dataframe thead th {\n",
       "        text-align: right;\n",
       "    }\n",
       "</style>\n",
       "<table border=\"1\" class=\"dataframe\">\n",
       "  <thead>\n",
       "    <tr style=\"text-align: right;\">\n",
       "      <th></th>\n",
       "      <th>average_runtime(minutes_per_week)</th>\n",
       "      <th>ratings</th>\n",
       "      <th>netgain</th>\n",
       "      <th>relation_Married-AF-spouse</th>\n",
       "      <th>relation_Married-civ-spouse</th>\n",
       "      <th>relation_Married-spouse-absent</th>\n",
       "      <th>relation_Never-married</th>\n",
       "      <th>relation_Separated</th>\n",
       "      <th>relation_Widowed</th>\n",
       "      <th>industry_ClassAction</th>\n",
       "      <th>...</th>\n",
       "      <th>loc_Taiwan</th>\n",
       "      <th>loc_Thailand</th>\n",
       "      <th>loc_Trinadad&amp;Tobago</th>\n",
       "      <th>loc_United-States</th>\n",
       "      <th>loc_Vietnam</th>\n",
       "      <th>loc_Yugoslavia</th>\n",
       "      <th>time_Morning</th>\n",
       "      <th>time_Primetime</th>\n",
       "      <th>money_back</th>\n",
       "      <th>expensive_oe</th>\n",
       "    </tr>\n",
       "  </thead>\n",
       "  <tbody>\n",
       "    <tr>\n",
       "      <th>0</th>\n",
       "      <td>40</td>\n",
       "      <td>0.027465</td>\n",
       "      <td>0</td>\n",
       "      <td>0</td>\n",
       "      <td>1</td>\n",
       "      <td>0</td>\n",
       "      <td>0</td>\n",
       "      <td>0</td>\n",
       "      <td>0</td>\n",
       "      <td>0</td>\n",
       "      <td>...</td>\n",
       "      <td>0</td>\n",
       "      <td>0</td>\n",
       "      <td>0</td>\n",
       "      <td>1</td>\n",
       "      <td>0</td>\n",
       "      <td>0</td>\n",
       "      <td>0</td>\n",
       "      <td>0</td>\n",
       "      <td>0</td>\n",
       "      <td>1.0</td>\n",
       "    </tr>\n",
       "    <tr>\n",
       "      <th>1</th>\n",
       "      <td>35</td>\n",
       "      <td>0.027465</td>\n",
       "      <td>0</td>\n",
       "      <td>0</td>\n",
       "      <td>0</td>\n",
       "      <td>0</td>\n",
       "      <td>1</td>\n",
       "      <td>0</td>\n",
       "      <td>0</td>\n",
       "      <td>0</td>\n",
       "      <td>...</td>\n",
       "      <td>0</td>\n",
       "      <td>0</td>\n",
       "      <td>0</td>\n",
       "      <td>0</td>\n",
       "      <td>0</td>\n",
       "      <td>0</td>\n",
       "      <td>1</td>\n",
       "      <td>0</td>\n",
       "      <td>0</td>\n",
       "      <td>0.0</td>\n",
       "    </tr>\n",
       "    <tr>\n",
       "      <th>2</th>\n",
       "      <td>40</td>\n",
       "      <td>0.027465</td>\n",
       "      <td>0</td>\n",
       "      <td>0</td>\n",
       "      <td>0</td>\n",
       "      <td>0</td>\n",
       "      <td>1</td>\n",
       "      <td>0</td>\n",
       "      <td>0</td>\n",
       "      <td>0</td>\n",
       "      <td>...</td>\n",
       "      <td>0</td>\n",
       "      <td>0</td>\n",
       "      <td>0</td>\n",
       "      <td>1</td>\n",
       "      <td>0</td>\n",
       "      <td>0</td>\n",
       "      <td>1</td>\n",
       "      <td>0</td>\n",
       "      <td>0</td>\n",
       "      <td>0.0</td>\n",
       "    </tr>\n",
       "    <tr>\n",
       "      <th>3</th>\n",
       "      <td>40</td>\n",
       "      <td>0.027465</td>\n",
       "      <td>0</td>\n",
       "      <td>0</td>\n",
       "      <td>1</td>\n",
       "      <td>0</td>\n",
       "      <td>0</td>\n",
       "      <td>0</td>\n",
       "      <td>0</td>\n",
       "      <td>0</td>\n",
       "      <td>...</td>\n",
       "      <td>0</td>\n",
       "      <td>0</td>\n",
       "      <td>0</td>\n",
       "      <td>1</td>\n",
       "      <td>0</td>\n",
       "      <td>0</td>\n",
       "      <td>0</td>\n",
       "      <td>1</td>\n",
       "      <td>1</td>\n",
       "      <td>0.0</td>\n",
       "    </tr>\n",
       "    <tr>\n",
       "      <th>4</th>\n",
       "      <td>50</td>\n",
       "      <td>0.027465</td>\n",
       "      <td>1</td>\n",
       "      <td>0</td>\n",
       "      <td>1</td>\n",
       "      <td>0</td>\n",
       "      <td>0</td>\n",
       "      <td>0</td>\n",
       "      <td>0</td>\n",
       "      <td>0</td>\n",
       "      <td>...</td>\n",
       "      <td>0</td>\n",
       "      <td>0</td>\n",
       "      <td>0</td>\n",
       "      <td>1</td>\n",
       "      <td>0</td>\n",
       "      <td>0</td>\n",
       "      <td>0</td>\n",
       "      <td>1</td>\n",
       "      <td>1</td>\n",
       "      <td>0.0</td>\n",
       "    </tr>\n",
       "  </tbody>\n",
       "</table>\n",
       "<p>5 rows × 64 columns</p>\n",
       "</div>"
      ],
      "text/plain": [
       "   average_runtime(minutes_per_week)   ratings  netgain  \\\n",
       "0                                 40  0.027465        0   \n",
       "1                                 35  0.027465        0   \n",
       "2                                 40  0.027465        0   \n",
       "3                                 40  0.027465        0   \n",
       "4                                 50  0.027465        1   \n",
       "\n",
       "   relation_Married-AF-spouse  relation_Married-civ-spouse  \\\n",
       "0                           0                            1   \n",
       "1                           0                            0   \n",
       "2                           0                            0   \n",
       "3                           0                            1   \n",
       "4                           0                            1   \n",
       "\n",
       "   relation_Married-spouse-absent  relation_Never-married  relation_Separated  \\\n",
       "0                               0                       0                   0   \n",
       "1                               0                       1                   0   \n",
       "2                               0                       1                   0   \n",
       "3                               0                       0                   0   \n",
       "4                               0                       0                   0   \n",
       "\n",
       "   relation_Widowed  industry_ClassAction  ...  loc_Taiwan  loc_Thailand  \\\n",
       "0                 0                     0  ...           0             0   \n",
       "1                 0                     0  ...           0             0   \n",
       "2                 0                     0  ...           0             0   \n",
       "3                 0                     0  ...           0             0   \n",
       "4                 0                     0  ...           0             0   \n",
       "\n",
       "   loc_Trinadad&Tobago  loc_United-States  loc_Vietnam  loc_Yugoslavia  \\\n",
       "0                    0                  1            0               0   \n",
       "1                    0                  0            0               0   \n",
       "2                    0                  1            0               0   \n",
       "3                    0                  1            0               0   \n",
       "4                    0                  1            0               0   \n",
       "\n",
       "   time_Morning  time_Primetime  money_back  expensive_oe  \n",
       "0             0               0           0           1.0  \n",
       "1             1               0           0           0.0  \n",
       "2             1               0           0           0.0  \n",
       "3             0               1           1           0.0  \n",
       "4             0               1           1           0.0  \n",
       "\n",
       "[5 rows x 64 columns]"
      ]
     },
     "execution_count": 32,
     "metadata": {},
     "output_type": "execute_result"
    }
   ],
   "source": [
    "df1=pd.concat([df[num_cols],relation,industry,genre,sex,airlocation,airtime,df['money_back'],df['expensive_oe']],axis=1)\n",
    "df1.head()"
   ]
  },
  {
   "cell_type": "code",
   "execution_count": 33,
   "metadata": {},
   "outputs": [
    {
     "data": {
      "text/html": [
       "<div>\n",
       "<style scoped>\n",
       "    .dataframe tbody tr th:only-of-type {\n",
       "        vertical-align: middle;\n",
       "    }\n",
       "\n",
       "    .dataframe tbody tr th {\n",
       "        vertical-align: top;\n",
       "    }\n",
       "\n",
       "    .dataframe thead th {\n",
       "        text-align: right;\n",
       "    }\n",
       "</style>\n",
       "<table border=\"1\" class=\"dataframe\">\n",
       "  <thead>\n",
       "    <tr style=\"text-align: right;\">\n",
       "      <th></th>\n",
       "      <th>average_runtime(minutes_per_week)</th>\n",
       "      <th>ratings</th>\n",
       "      <th>relation_Married-AF-spouse</th>\n",
       "      <th>relation_Married-civ-spouse</th>\n",
       "      <th>relation_Married-spouse-absent</th>\n",
       "      <th>relation_Never-married</th>\n",
       "      <th>relation_Separated</th>\n",
       "      <th>relation_Widowed</th>\n",
       "      <th>industry_ClassAction</th>\n",
       "      <th>industry_Entertainment</th>\n",
       "      <th>...</th>\n",
       "      <th>loc_South</th>\n",
       "      <th>loc_Taiwan</th>\n",
       "      <th>loc_Thailand</th>\n",
       "      <th>loc_United-States</th>\n",
       "      <th>loc_Vietnam</th>\n",
       "      <th>loc_Yugoslavia</th>\n",
       "      <th>time_Morning</th>\n",
       "      <th>time_Primetime</th>\n",
       "      <th>money_back</th>\n",
       "      <th>expensive_oe</th>\n",
       "    </tr>\n",
       "  </thead>\n",
       "  <tbody>\n",
       "    <tr>\n",
       "      <th>0</th>\n",
       "      <td>40</td>\n",
       "      <td>0.027465</td>\n",
       "      <td>0</td>\n",
       "      <td>0</td>\n",
       "      <td>0</td>\n",
       "      <td>1</td>\n",
       "      <td>0</td>\n",
       "      <td>0</td>\n",
       "      <td>0</td>\n",
       "      <td>1</td>\n",
       "      <td>...</td>\n",
       "      <td>0</td>\n",
       "      <td>0</td>\n",
       "      <td>0</td>\n",
       "      <td>1</td>\n",
       "      <td>0</td>\n",
       "      <td>0</td>\n",
       "      <td>0</td>\n",
       "      <td>1</td>\n",
       "      <td>1</td>\n",
       "      <td>2.0</td>\n",
       "    </tr>\n",
       "    <tr>\n",
       "      <th>1</th>\n",
       "      <td>40</td>\n",
       "      <td>0.027465</td>\n",
       "      <td>0</td>\n",
       "      <td>0</td>\n",
       "      <td>0</td>\n",
       "      <td>0</td>\n",
       "      <td>0</td>\n",
       "      <td>0</td>\n",
       "      <td>0</td>\n",
       "      <td>0</td>\n",
       "      <td>...</td>\n",
       "      <td>0</td>\n",
       "      <td>0</td>\n",
       "      <td>0</td>\n",
       "      <td>1</td>\n",
       "      <td>0</td>\n",
       "      <td>0</td>\n",
       "      <td>0</td>\n",
       "      <td>1</td>\n",
       "      <td>0</td>\n",
       "      <td>0.0</td>\n",
       "    </tr>\n",
       "    <tr>\n",
       "      <th>2</th>\n",
       "      <td>40</td>\n",
       "      <td>0.027465</td>\n",
       "      <td>0</td>\n",
       "      <td>1</td>\n",
       "      <td>0</td>\n",
       "      <td>0</td>\n",
       "      <td>0</td>\n",
       "      <td>0</td>\n",
       "      <td>0</td>\n",
       "      <td>0</td>\n",
       "      <td>...</td>\n",
       "      <td>0</td>\n",
       "      <td>0</td>\n",
       "      <td>0</td>\n",
       "      <td>1</td>\n",
       "      <td>0</td>\n",
       "      <td>0</td>\n",
       "      <td>0</td>\n",
       "      <td>1</td>\n",
       "      <td>0</td>\n",
       "      <td>2.0</td>\n",
       "    </tr>\n",
       "    <tr>\n",
       "      <th>3</th>\n",
       "      <td>30</td>\n",
       "      <td>0.027465</td>\n",
       "      <td>0</td>\n",
       "      <td>0</td>\n",
       "      <td>0</td>\n",
       "      <td>1</td>\n",
       "      <td>0</td>\n",
       "      <td>0</td>\n",
       "      <td>0</td>\n",
       "      <td>0</td>\n",
       "      <td>...</td>\n",
       "      <td>0</td>\n",
       "      <td>0</td>\n",
       "      <td>0</td>\n",
       "      <td>1</td>\n",
       "      <td>0</td>\n",
       "      <td>0</td>\n",
       "      <td>0</td>\n",
       "      <td>1</td>\n",
       "      <td>1</td>\n",
       "      <td>2.0</td>\n",
       "    </tr>\n",
       "    <tr>\n",
       "      <th>4</th>\n",
       "      <td>70</td>\n",
       "      <td>0.027465</td>\n",
       "      <td>0</td>\n",
       "      <td>0</td>\n",
       "      <td>0</td>\n",
       "      <td>1</td>\n",
       "      <td>0</td>\n",
       "      <td>0</td>\n",
       "      <td>0</td>\n",
       "      <td>0</td>\n",
       "      <td>...</td>\n",
       "      <td>0</td>\n",
       "      <td>0</td>\n",
       "      <td>0</td>\n",
       "      <td>1</td>\n",
       "      <td>0</td>\n",
       "      <td>0</td>\n",
       "      <td>1</td>\n",
       "      <td>0</td>\n",
       "      <td>0</td>\n",
       "      <td>0.0</td>\n",
       "    </tr>\n",
       "  </tbody>\n",
       "</table>\n",
       "<p>5 rows × 62 columns</p>\n",
       "</div>"
      ],
      "text/plain": [
       "   average_runtime(minutes_per_week)   ratings  relation_Married-AF-spouse  \\\n",
       "0                                 40  0.027465                           0   \n",
       "1                                 40  0.027465                           0   \n",
       "2                                 40  0.027465                           0   \n",
       "3                                 30  0.027465                           0   \n",
       "4                                 70  0.027465                           0   \n",
       "\n",
       "   relation_Married-civ-spouse  relation_Married-spouse-absent  \\\n",
       "0                            0                               0   \n",
       "1                            0                               0   \n",
       "2                            1                               0   \n",
       "3                            0                               0   \n",
       "4                            0                               0   \n",
       "\n",
       "   relation_Never-married  relation_Separated  relation_Widowed  \\\n",
       "0                       1                   0                 0   \n",
       "1                       0                   0                 0   \n",
       "2                       0                   0                 0   \n",
       "3                       1                   0                 0   \n",
       "4                       1                   0                 0   \n",
       "\n",
       "   industry_ClassAction  industry_Entertainment  ...  loc_South  loc_Taiwan  \\\n",
       "0                     0                       1  ...          0           0   \n",
       "1                     0                       0  ...          0           0   \n",
       "2                     0                       0  ...          0           0   \n",
       "3                     0                       0  ...          0           0   \n",
       "4                     0                       0  ...          0           0   \n",
       "\n",
       "   loc_Thailand  loc_United-States  loc_Vietnam  loc_Yugoslavia  time_Morning  \\\n",
       "0             0                  1            0               0             0   \n",
       "1             0                  1            0               0             0   \n",
       "2             0                  1            0               0             0   \n",
       "3             0                  1            0               0             0   \n",
       "4             0                  1            0               0             1   \n",
       "\n",
       "   time_Primetime  money_back  expensive_oe  \n",
       "0               1           1           2.0  \n",
       "1               1           0           0.0  \n",
       "2               1           0           2.0  \n",
       "3               1           1           2.0  \n",
       "4               0           0           0.0  \n",
       "\n",
       "[5 rows x 62 columns]"
      ]
     },
     "execution_count": 33,
     "metadata": {},
     "output_type": "execute_result"
    }
   ],
   "source": [
    "df1_test=pd.concat([df_test[num_cols_test],relation_test,industry_test,genre_test,sex_test,airlocation_test,airtime_test,df_test['money_back'],df_test['expensive_oe']],axis=1)\n",
    "df1_test.head()"
   ]
  },
  {
   "cell_type": "code",
   "execution_count": null,
   "metadata": {},
   "outputs": [],
   "source": []
  },
  {
   "cell_type": "code",
   "execution_count": 34,
   "metadata": {},
   "outputs": [
    {
     "data": {
      "text/plain": [
       "(19536, 64)"
      ]
     },
     "execution_count": 34,
     "metadata": {},
     "output_type": "execute_result"
    }
   ],
   "source": [
    "df1.shape"
   ]
  },
  {
   "cell_type": "code",
   "execution_count": 35,
   "metadata": {},
   "outputs": [
    {
     "data": {
      "text/plain": [
       "(6512, 62)"
      ]
     },
     "execution_count": 35,
     "metadata": {},
     "output_type": "execute_result"
    }
   ],
   "source": [
    "df1_test.shape"
   ]
  },
  {
   "cell_type": "code",
   "execution_count": 36,
   "metadata": {},
   "outputs": [],
   "source": [
    "final_train, final_test = df1.align(df1_test, join='inner', axis=1)  # inner join "
   ]
  },
  {
   "cell_type": "code",
   "execution_count": 37,
   "metadata": {},
   "outputs": [
    {
     "data": {
      "text/plain": [
       "(19536, 62)"
      ]
     },
     "execution_count": 37,
     "metadata": {},
     "output_type": "execute_result"
    }
   ],
   "source": [
    "final_train.shape"
   ]
  },
  {
   "cell_type": "code",
   "execution_count": 38,
   "metadata": {},
   "outputs": [],
   "source": [
    "from sklearn.model_selection import train_test_split\n",
    "from sklearn.preprocessing import LabelEncoder\n",
    "from sklearn.ensemble import AdaBoostClassifier\n",
    "from sklearn.metrics import f1_score,classification_report,confusion_matrix\n",
    "from xgboost import XGBClassifier\n",
    "from sklearn.model_selection import GridSearchCV"
   ]
  },
  {
   "cell_type": "code",
   "execution_count": 39,
   "metadata": {},
   "outputs": [],
   "source": [
    "X=final_train\n",
    "y=df1.netgain"
   ]
  },
  {
   "cell_type": "code",
   "execution_count": 40,
   "metadata": {},
   "outputs": [],
   "source": [
    "from sklearn.preprocessing import StandardScaler\n",
    "std_sc=StandardScaler()\n",
    "X_std=std_sc.fit_transform(X) "
   ]
  },
  {
   "cell_type": "code",
   "execution_count": 41,
   "metadata": {},
   "outputs": [],
   "source": [
    "X_train, X_test, y_train, y_test = train_test_split(X_std, y, test_size=0.3, random_state=3)"
   ]
  },
  {
   "cell_type": "code",
   "execution_count": 42,
   "metadata": {},
   "outputs": [
    {
     "name": "stdout",
     "output_type": "stream",
     "text": [
      "Shape of train dataset before applying SMOTE: (13675, 62)\n",
      "Shape of train dataset after applying SMOTE: (20782, 62)\n"
     ]
    }
   ],
   "source": [
    "# Applying SMOTE\n",
    "from imblearn.over_sampling import SMOTE \n",
    "\n",
    "print(\"Shape of train dataset before applying SMOTE:\",X_train.shape)\n",
    "\n",
    "X_sm_train, y_sm_train = SMOTE().fit_resample(X_train,y_train)\n",
    "\n",
    "print(\"Shape of train dataset after applying SMOTE:\",X_sm_train.shape)"
   ]
  },
  {
   "cell_type": "code",
   "execution_count": 43,
   "metadata": {},
   "outputs": [
    {
     "data": {
      "text/plain": [
       "0    10391\n",
       "1     3284\n",
       "Name: netgain, dtype: int64"
      ]
     },
     "execution_count": 43,
     "metadata": {},
     "output_type": "execute_result"
    }
   ],
   "source": [
    "y_train.value_counts()"
   ]
  },
  {
   "cell_type": "code",
   "execution_count": 44,
   "metadata": {},
   "outputs": [
    {
     "data": {
      "text/plain": [
       "1    10391\n",
       "0    10391\n",
       "Name: netgain, dtype: int64"
      ]
     },
     "execution_count": 44,
     "metadata": {},
     "output_type": "execute_result"
    }
   ],
   "source": [
    "y_sm_train.value_counts()"
   ]
  },
  {
   "cell_type": "code",
   "execution_count": 45,
   "metadata": {},
   "outputs": [
    {
     "name": "stdout",
     "output_type": "stream",
     "text": [
      "f1_score:  0.6184468741239136\n",
      "Confusion matrix: \n",
      " [[3397 1098]\n",
      " [ 263 1103]]\n",
      "Classification report: \n",
      "               precision    recall  f1-score   support\n",
      "\n",
      "           0       0.93      0.76      0.83      4495\n",
      "           1       0.50      0.81      0.62      1366\n",
      "\n",
      "    accuracy                           0.77      5861\n",
      "   macro avg       0.71      0.78      0.73      5861\n",
      "weighted avg       0.83      0.77      0.78      5861\n",
      "\n"
     ]
    }
   ],
   "source": [
    "# Initialising AdaBoostClassifier model\n",
    "ada_model = AdaBoostClassifier(random_state=0)\n",
    "\n",
    "#Fitting the model on train data\n",
    "ada_model.fit(X_sm_train,y_sm_train)\n",
    "\n",
    "#Making prediction on test data\n",
    "y_pred = ada_model.predict(X_test)\n",
    "\n",
    "#Finding the f1 score\n",
    "ada_score = f1_score(y_test,y_pred)\n",
    "print(\"f1_score: \",ada_score)\n",
    "\n",
    "#Finding the confusion matrix\n",
    "ada_cm=confusion_matrix(y_test,y_pred)\n",
    "print('Confusion matrix: \\n', ada_cm)\n",
    "\n",
    "#Finding the classification report\n",
    "ada_cr=classification_report(y_test,y_pred)\n",
    "print('Classification report: \\n', ada_cr)"
   ]
  },
  {
   "cell_type": "code",
   "execution_count": 46,
   "metadata": {},
   "outputs": [
    {
     "name": "stdout",
     "output_type": "stream",
     "text": [
      "[09:53:55] WARNING: C:/Users/Administrator/workspace/xgboost-win64_release_1.3.0/src/learner.cc:1061: Starting in XGBoost 1.3.0, the default evaluation metric used with the objective 'binary:logistic' was changed from 'error' to 'logloss'. Explicitly set eval_metric if you'd like to restore the old behavior.\n",
      "f1:  0.6069127123608671\n",
      "Confusion matrix: \n",
      " [[3483 1012]\n",
      " [ 330 1036]]\n",
      "Classification report: \n",
      "               precision    recall  f1-score   support\n",
      "\n",
      "           0       0.91      0.77      0.84      4495\n",
      "           1       0.51      0.76      0.61      1366\n",
      "\n",
      "    accuracy                           0.77      5861\n",
      "   macro avg       0.71      0.77      0.72      5861\n",
      "weighted avg       0.82      0.77      0.78      5861\n",
      "\n"
     ]
    }
   ],
   "source": [
    "\n",
    "#Initializing the model\n",
    "xgb_model = XGBClassifier(random_state=0)\n",
    "\n",
    "#Fitting the model on train data\n",
    "xgb_model.fit(X_sm_train,y_sm_train)\n",
    "\n",
    "#Making prediction on test data\n",
    "y_pred = xgb_model.predict(X_test)\n",
    "\n",
    "#Finding the f1 score\n",
    "xgb_score = f1_score(y_test,y_pred)\n",
    "print(\"f1: \",xgb_score)\n",
    "\n",
    "#Finding the confusion matrix\n",
    "xgb_cm=confusion_matrix(y_test,y_pred)\n",
    "print('Confusion matrix: \\n', xgb_cm)\n",
    "\n",
    "#Finding the classification report\n",
    "xgb_cr=classification_report(y_test,y_pred)\n",
    "print('Classification report: \\n', xgb_cr)"
   ]
  },
  {
   "cell_type": "code",
   "execution_count": 47,
   "metadata": {},
   "outputs": [
    {
     "name": "stdout",
     "output_type": "stream",
     "text": [
      "f1:  0.5825755353476092\n",
      "Confusion matrix: \n",
      " [[3445 1050]\n",
      " [ 373  993]]\n",
      "Classification report: \n",
      "               precision    recall  f1-score   support\n",
      "\n",
      "           0       0.90      0.77      0.83      4495\n",
      "           1       0.49      0.73      0.58      1366\n",
      "\n",
      "    accuracy                           0.76      5861\n",
      "   macro avg       0.69      0.75      0.71      5861\n",
      "weighted avg       0.81      0.76      0.77      5861\n",
      "\n"
     ]
    }
   ],
   "source": [
    "from sklearn.ensemble import RandomForestClassifier\n",
    "rfc=RandomForestClassifier(random_state=12)\n",
    "#Fitting the model on train data\n",
    "rfc.fit(X_sm_train,y_sm_train)\n",
    "\n",
    "#Making prediction on test data\n",
    "y_pred = rfc.predict(X_test)\n",
    "\n",
    "#Finding the f1 score\n",
    "rf_score = f1_score(y_test,y_pred)\n",
    "print(\"f1: \",rf_score)\n",
    "\n",
    "#Finding the confusion matrix\n",
    "rf_cm=confusion_matrix(y_test,y_pred)\n",
    "print('Confusion matrix: \\n', rf_cm)\n",
    "\n",
    "#Finding the classification report\n",
    "rf_cr=classification_report(y_test,y_pred)\n",
    "print('Classification report: \\n', rf_cr)"
   ]
  },
  {
   "cell_type": "code",
   "execution_count": 49,
   "metadata": {},
   "outputs": [
    {
     "name": "stdout",
     "output_type": "stream",
     "text": [
      "f1:  0.4698175011698643\n",
      "Confusion matrix: \n",
      " [[4226  269]\n",
      " [ 864  502]]\n"
     ]
    }
   ],
   "source": [
    "from sklearn.linear_model import LogisticRegression\n",
    "lr = LogisticRegression()\n",
    "lr.fit(X_train,y_train)\n",
    "y_pred1 = lr.predict(X_test)\n",
    "\n",
    "#Finding the f1 score\n",
    "rf_score = f1_score(y_test,y_pred1)\n",
    "print(\"f1: \",rf_score)\n",
    "\n",
    "#Finding the confusion matrix\n",
    "rf_cm=confusion_matrix(y_test,y_pred1)\n",
    "print('Confusion matrix: \\n', rf_cm)"
   ]
  },
  {
   "cell_type": "code",
   "execution_count": 50,
   "metadata": {},
   "outputs": [
    {
     "name": "stdout",
     "output_type": "stream",
     "text": [
      "f1:  0.6111111111111112\n",
      "Confusion matrix: \n",
      " [[3286 1209]\n",
      " [ 233 1133]]\n"
     ]
    }
   ],
   "source": [
    "lr2 = LogisticRegression()\n",
    "lr2.fit(X_sm_train,y_sm_train)\n",
    "y_pred1 = lr2.predict(X_test)\n",
    "\n",
    "#Finding the f1 score\n",
    "rf_score = f1_score(y_test,y_pred1)\n",
    "print(\"f1: \",rf_score)\n",
    "\n",
    "#Finding the confusion matrix\n",
    "rf_cm=confusion_matrix(y_test,y_pred1)\n",
    "print('Confusion matrix: \\n', rf_cm)"
   ]
  },
  {
   "cell_type": "code",
   "execution_count": null,
   "metadata": {},
   "outputs": [],
   "source": []
  },
  {
   "cell_type": "code",
   "execution_count": null,
   "metadata": {},
   "outputs": [],
   "source": []
  },
  {
   "cell_type": "code",
   "execution_count": null,
   "metadata": {},
   "outputs": [],
   "source": []
  },
  {
   "cell_type": "code",
   "execution_count": null,
   "metadata": {},
   "outputs": [],
   "source": []
  },
  {
   "cell_type": "code",
   "execution_count": null,
   "metadata": {},
   "outputs": [],
   "source": []
  },
  {
   "cell_type": "code",
   "execution_count": null,
   "metadata": {},
   "outputs": [],
   "source": []
  },
  {
   "cell_type": "code",
   "execution_count": null,
   "metadata": {},
   "outputs": [],
   "source": []
  },
  {
   "cell_type": "code",
   "execution_count": null,
   "metadata": {},
   "outputs": [],
   "source": []
  },
  {
   "cell_type": "code",
   "execution_count": null,
   "metadata": {},
   "outputs": [],
   "source": []
  },
  {
   "cell_type": "code",
   "execution_count": null,
   "metadata": {},
   "outputs": [],
   "source": []
  },
  {
   "cell_type": "code",
   "execution_count": null,
   "metadata": {},
   "outputs": [],
   "source": []
  },
  {
   "cell_type": "code",
   "execution_count": null,
   "metadata": {},
   "outputs": [],
   "source": []
  },
  {
   "cell_type": "code",
   "execution_count": null,
   "metadata": {},
   "outputs": [],
   "source": []
  },
  {
   "cell_type": "code",
   "execution_count": null,
   "metadata": {},
   "outputs": [],
   "source": []
  },
  {
   "cell_type": "code",
   "execution_count": null,
   "metadata": {},
   "outputs": [],
   "source": []
  },
  {
   "cell_type": "code",
   "execution_count": null,
   "metadata": {},
   "outputs": [],
   "source": []
  },
  {
   "cell_type": "code",
   "execution_count": null,
   "metadata": {},
   "outputs": [],
   "source": []
  },
  {
   "cell_type": "code",
   "execution_count": null,
   "metadata": {},
   "outputs": [],
   "source": []
  },
  {
   "cell_type": "code",
   "execution_count": null,
   "metadata": {},
   "outputs": [],
   "source": []
  },
  {
   "cell_type": "code",
   "execution_count": null,
   "metadata": {},
   "outputs": [],
   "source": []
  },
  {
   "cell_type": "code",
   "execution_count": null,
   "metadata": {},
   "outputs": [],
   "source": []
  },
  {
   "cell_type": "code",
   "execution_count": null,
   "metadata": {},
   "outputs": [],
   "source": []
  },
  {
   "cell_type": "code",
   "execution_count": null,
   "metadata": {},
   "outputs": [],
   "source": []
  },
  {
   "cell_type": "code",
   "execution_count": null,
   "metadata": {},
   "outputs": [],
   "source": []
  },
  {
   "cell_type": "code",
   "execution_count": null,
   "metadata": {},
   "outputs": [],
   "source": []
  }
 ],
 "metadata": {
  "kernelspec": {
   "display_name": "Python 3",
   "language": "python",
   "name": "python3"
  },
  "language_info": {
   "codemirror_mode": {
    "name": "ipython",
    "version": 3
   },
   "file_extension": ".py",
   "mimetype": "text/x-python",
   "name": "python",
   "nbconvert_exporter": "python",
   "pygments_lexer": "ipython3",
   "version": "3.7.9"
  }
 },
 "nbformat": 4,
 "nbformat_minor": 4
}
